{
 "cells": [
  {
   "cell_type": "markdown",
   "metadata": {
    "application/vnd.databricks.v1+cell": {
     "cellMetadata": {},
     "inputWidgets": {},
     "nuid": "69596b38-859c-4ea6-8c75-a87d95352053",
     "showTitle": false,
     "tableResultSettingsMap": {},
     "title": ""
    }
   },
   "source": [
    "Import Required Libraries"
   ]
  },
  {
   "cell_type": "code",
   "execution_count": 0,
   "metadata": {
    "application/vnd.databricks.v1+cell": {
     "cellMetadata": {
      "byteLimit": 2048000,
      "rowLimit": 10000
     },
     "inputWidgets": {},
     "nuid": "00f37bfa-4db6-4259-ac06-e914d7b1a7af",
     "showTitle": false,
     "tableResultSettingsMap": {},
     "title": ""
    }
   },
   "outputs": [],
   "source": [
    "from pyspark.sql import SparkSession\n",
    "from pyspark.sql.functions import col, regexp_replace, min, max\n",
    "import requests\n",
    "from bs4 import BeautifulSoup\n",
    "from datetime import datetime\n",
    "import time\n"
   ]
  },
  {
   "cell_type": "markdown",
   "metadata": {
    "application/vnd.databricks.v1+cell": {
     "cellMetadata": {},
     "inputWidgets": {},
     "nuid": "ad72ba12-e516-4630-812f-38dd75b769d5",
     "showTitle": false,
     "tableResultSettingsMap": {},
     "title": ""
    }
   },
   "source": [
    "Define European Capital Cities for Weather Data Collection"
   ]
  },
  {
   "cell_type": "code",
   "execution_count": 0,
   "metadata": {
    "application/vnd.databricks.v1+cell": {
     "cellMetadata": {
      "byteLimit": 2048000,
      "rowLimit": 10000
     },
     "inputWidgets": {},
     "nuid": "d056d455-a83b-4311-82b3-6c07f8fedcbe",
     "showTitle": false,
     "tableResultSettingsMap": {},
     "title": ""
    }
   },
   "outputs": [],
   "source": [
    "european_capitals = {\n",
    "    \"Paris\": \"https://www.timeanddate.com/weather/france/paris\",\n",
    "    \"Berlin\": \"https://www.timeanddate.com/weather/germany/berlin\",\n",
    "    \"Madrid\": \"https://www.timeanddate.com/weather/spain/madrid\",\n",
    "    \"Rome\": \"https://www.timeanddate.com/weather/italy/rome\",\n",
    "    \"London\": \"https://www.timeanddate.com/weather/uk/london\",\n",
    "    \"Amsterdam\": \"https://www.timeanddate.com/weather/netherlands/amsterdam\",\n",
    "    \"Brussels\": \"https://www.timeanddate.com/weather/belgium/brussels\",\n",
    "    \"Vienna\": \"https://www.timeanddate.com/weather/austria/vienna\",\n",
    "    \"Copenhagen\": \"https://www.timeanddate.com/weather/denmark/copenhagen\",\n",
    "    \"Athens\": \"https://www.timeanddate.com/weather/greece/athens\",\n",
    "    \"Lisbon\": \"https://www.timeanddate.com/weather/portugal/lisbon\",\n",
    "    \"Dublin\": \"https://www.timeanddate.com/weather/ireland/dublin\",\n",
    "    \"Stockholm\": \"https://www.timeanddate.com/weather/sweden/stockholm\",\n",
    "    \"Oslo\": \"https://www.timeanddate.com/weather/norway/oslo\",\n",
    "    \"Helsinki\": \"https://www.timeanddate.com/weather/finland/helsinki\",\n",
    "    \"Warsaw\": \"https://www.timeanddate.com/weather/poland/warsaw\",\n",
    "    \"Prague\": \"https://www.timeanddate.com/weather/czech-republic/prague\",\n",
    "    \"Budapest\": \"https://www.timeanddate.com/weather/hungary/budapest\",\n",
    "    \"Bratislava\": \"https://www.timeanddate.com/weather/slovakia/bratislava\",\n",
    "    \"Ljubljana\": \"https://www.timeanddate.com/weather/slovenia/ljubljana\",\n",
    "    \"Zagreb\": \"https://www.timeanddate.com/weather/croatia/zagreb\",\n",
    "    \"Sofia\": \"https://www.timeanddate.com/weather/bulgaria/sofia\",\n",
    "    \"Bucharest\": \"https://www.timeanddate.com/weather/romania/bucharest\",\n",
    "    \"Tallinn\": \"https://www.timeanddate.com/weather/estonia/tallinn\",\n",
    "    \"Riga\": \"https://www.timeanddate.com/weather/latvia/riga\",\n",
    "    \"Vilnius\": \"https://www.timeanddate.com/weather/lithuania/vilnius\",\n",
    "    \"Bern\": \"https://www.timeanddate.com/weather/switzerland/bern\",\n",
    "    \"Reykjavik\": \"https://www.timeanddate.com/weather/iceland/reykjavik\",\n",
    "    \"Luxembourg\": \"https://www.timeanddate.com/weather/luxembourg/luxembourg\",\n",
    "    \"Valletta\": \"https://www.timeanddate.com/weather/malta/valletta\"\n",
    "}"
   ]
  },
  {
   "cell_type": "markdown",
   "metadata": {
    "application/vnd.databricks.v1+cell": {
     "cellMetadata": {},
     "inputWidgets": {},
     "nuid": "6cd90479-861d-4060-8f5f-3806451f0f16",
     "showTitle": false,
     "tableResultSettingsMap": {},
     "title": ""
    }
   },
   "source": [
    "Defining Web Scraping Function to Fetch Temperature"
   ]
  },
  {
   "cell_type": "code",
   "execution_count": 0,
   "metadata": {
    "application/vnd.databricks.v1+cell": {
     "cellMetadata": {
      "byteLimit": 2048000,
      "rowLimit": 10000
     },
     "inputWidgets": {},
     "nuid": "292ee044-faee-4a77-9848-8d67eb1462af",
     "showTitle": false,
     "tableResultSettingsMap": {},
     "title": ""
    }
   },
   "outputs": [],
   "source": [
    "def get_weather(city, url):\n",
    "    \"\"\"Scrape the current temperature of a city from Time and Date.\"\"\"\n",
    "    headers = {\"User-Agent\": \"Mozilla/5.0\"}\n",
    "\n",
    "    try:\n",
    "        response = requests.get(url, headers=headers, timeout=5)\n",
    "\n",
    "        # Debugging: Print first 500 characters of the response\n",
    "        print(f\"Checking {city}: {response.text[:500]}\")\n",
    "\n",
    "        if response.status_code == 200:\n",
    "            soup = BeautifulSoup(response.text, \"html.parser\")\n",
    "\n",
    "            # Check if the div exists\n",
    "            temperature_element = soup.find(\"div\", class_=\"h2\")\n",
    "            if not temperature_element:\n",
    "                print(f\"Could not find temperature for {city}. Check HTML structure.\")\n",
    "                return None\n",
    "            \n",
    "            temperature = temperature_element.text.strip()\n",
    "\n",
    "            # Get current date\n",
    "            date = datetime.now().strftime(\"%Y-%m-%d\")\n",
    "            \n",
    "            return (date, city, temperature)\n",
    "\n",
    "    except Exception as e:\n",
    "        print(f\"Error fetching {city}: {e}\")\n",
    "\n",
    "    return None\n"
   ]
  },
  {
   "cell_type": "markdown",
   "metadata": {
    "application/vnd.databricks.v1+cell": {
     "cellMetadata": {},
     "inputWidgets": {},
     "nuid": "45f19caf-9e95-41d7-8204-1be23100beb7",
     "showTitle": false,
     "tableResultSettingsMap": {},
     "title": ""
    }
   },
   "source": [
    "Fetching Weather Data for All Cities and Creating Spark DataFrame"
   ]
  },
  {
   "cell_type": "code",
   "execution_count": 0,
   "metadata": {
    "application/vnd.databricks.v1+cell": {
     "cellMetadata": {
      "byteLimit": 2048000,
      "rowLimit": 10000
     },
     "inputWidgets": {},
     "nuid": "b976cec9-67ec-49b5-99a5-4b0c5ac1cdb7",
     "showTitle": false,
     "tableResultSettingsMap": {},
     "title": ""
    }
   },
   "outputs": [
    {
     "output_type": "stream",
     "name": "stdout",
     "output_type": "stream",
     "text": [
      "Checking Paris: <!DOCTYPE html><!--\nscripts and programs that download content transparent to the user are not allowed without permission\n--><html lang=en><head><meta http-equiv=Content-Type content=\"text/html; charset=utf-8\"><title>Weather for Paris, Paris, France</title><meta name=description content=\"Current weather in Paris and forecast for today, tomorrow, and next 14 days\"><meta name=robots content=\"max-image-preview:large\"><meta property=\"og:image\" content=\"https://www.timeanddate.com/scripts/cityog.php?\nChecking Berlin: <!DOCTYPE html><!--\nscripts and programs that download content transparent to the user are not allowed without permission\n--><html lang=en><head><meta http-equiv=Content-Type content=\"text/html; charset=utf-8\"><title>Weather for Berlin, Germany</title><meta name=description content=\"Current weather in Berlin and forecast for today, tomorrow, and next 14 days\"><meta name=robots content=\"max-image-preview:large\"><meta property=\"og:image\" content=\"https://www.timeanddate.com/scripts/cityog.php?titl\nChecking Madrid: <!DOCTYPE html><!--\nscripts and programs that download content transparent to the user are not allowed without permission\n--><html lang=en><head><meta http-equiv=Content-Type content=\"text/html; charset=utf-8\"><title>Weather for Madrid, Madrid, Spain</title><meta name=description content=\"Current weather in Madrid and forecast for today, tomorrow, and next 14 days\"><meta name=robots content=\"max-image-preview:large\"><meta property=\"og:image\" content=\"https://www.timeanddate.com/scripts/cityog.ph\nChecking Rome: <!DOCTYPE html><!--\nscripts and programs that download content transparent to the user are not allowed without permission\n--><html lang=en><head><meta http-equiv=Content-Type content=\"text/html; charset=utf-8\"><title>Weather for Rome, Italy</title><meta name=description content=\"Current weather in Rome and forecast for today, tomorrow, and next 14 days\"><meta name=robots content=\"max-image-preview:large\"><meta property=\"og:image\" content=\"https://www.timeanddate.com/scripts/cityog.php?title=Weat\nChecking London: <!DOCTYPE html><!--\nscripts and programs that download content transparent to the user are not allowed without permission\n--><html lang=en><head><meta http-equiv=Content-Type content=\"text/html; charset=utf-8\"><title>Weather for London, England, United Kingdom</title><meta name=description content=\"Current weather in London and forecast for today, tomorrow, and next 14 days\"><meta name=robots content=\"max-image-preview:large\"><meta property=\"og:image\" content=\"https://www.timeanddate.com/scripts\nChecking Amsterdam: <!DOCTYPE html><!--\nscripts and programs that download content transparent to the user are not allowed without permission\n--><html lang=en><head><meta http-equiv=Content-Type content=\"text/html; charset=utf-8\"><title>Weather for Amsterdam, Netherlands</title><meta name=description content=\"Current weather in Amsterdam and forecast for today, tomorrow, and next 14 days\"><meta name=robots content=\"max-image-preview:large\"><meta property=\"og:image\" content=\"https://www.timeanddate.com/scripts/cityo\nChecking Brussels: <!DOCTYPE html><!--\nscripts and programs that download content transparent to the user are not allowed without permission\n--><html lang=en><head><meta http-equiv=Content-Type content=\"text/html; charset=utf-8\"><title>Weather for Brussels, Belgium</title><meta name=description content=\"Current weather in Brussels and forecast for today, tomorrow, and next 14 days\"><meta name=robots content=\"max-image-preview:large\"><meta property=\"og:image\" content=\"https://www.timeanddate.com/scripts/cityog.php?\nChecking Vienna: <!DOCTYPE html><!--\nscripts and programs that download content transparent to the user are not allowed without permission\n--><html lang=en><head><meta http-equiv=Content-Type content=\"text/html; charset=utf-8\"><title>Weather for Vienna, Vienna, Austria</title><meta name=description content=\"Current weather in Vienna and forecast for today, tomorrow, and next 14 days\"><meta name=robots content=\"max-image-preview:large\"><meta property=\"og:image\" content=\"https://www.timeanddate.com/scripts/cityog.\nChecking Copenhagen: <!DOCTYPE html><!--\nscripts and programs that download content transparent to the user are not allowed without permission\n--><html lang=en><head><meta http-equiv=Content-Type content=\"text/html; charset=utf-8\"><title>Weather for Copenhagen, Denmark</title><meta name=description content=\"Current weather in Copenhagen and forecast for today, tomorrow, and next 14 days\"><meta name=robots content=\"max-image-preview:large\"><meta property=\"og:image\" content=\"https://www.timeanddate.com/scripts/cityog.\nChecking Athens: <!DOCTYPE html><!--\nscripts and programs that download content transparent to the user are not allowed without permission\n--><html lang=en><head><meta http-equiv=Content-Type content=\"text/html; charset=utf-8\"><title>Weather for Athens, Greece</title><meta name=description content=\"Current weather in Athens and forecast for today, tomorrow, and next 14 days\"><meta name=robots content=\"max-image-preview:large\"><meta property=\"og:image\" content=\"https://www.timeanddate.com/scripts/cityog.php?title\nChecking Lisbon: <!DOCTYPE html><!--\nscripts and programs that download content transparent to the user are not allowed without permission\n--><html lang=en><head><meta http-equiv=Content-Type content=\"text/html; charset=utf-8\"><title>Weather for Lisbon, Portugal</title><meta name=description content=\"Current weather in Lisbon and forecast for today, tomorrow, and next 14 days\"><meta name=robots content=\"max-image-preview:large\"><meta property=\"og:image\" content=\"https://www.timeanddate.com/scripts/cityog.php?tit\nChecking Dublin: <!DOCTYPE html><!--\nscripts and programs that download content transparent to the user are not allowed without permission\n--><html lang=en><head><meta http-equiv=Content-Type content=\"text/html; charset=utf-8\"><title>Weather for Dublin, Ireland</title><meta name=description content=\"Current weather in Dublin and forecast for today, tomorrow, and next 14 days\"><meta name=robots content=\"max-image-preview:large\"><meta property=\"og:image\" content=\"https://www.timeanddate.com/scripts/cityog.php?titl\nChecking Stockholm: <!DOCTYPE html><!--\nscripts and programs that download content transparent to the user are not allowed without permission\n--><html lang=en><head><meta http-equiv=Content-Type content=\"text/html; charset=utf-8\"><title>Weather for Stockholm, Sweden</title><meta name=description content=\"Current weather in Stockholm and forecast for today, tomorrow, and next 14 days\"><meta name=robots content=\"max-image-preview:large\"><meta property=\"og:image\" content=\"https://www.timeanddate.com/scripts/cityog.php\nChecking Oslo: <!DOCTYPE html><!--\nscripts and programs that download content transparent to the user are not allowed without permission\n--><html lang=en><head><meta http-equiv=Content-Type content=\"text/html; charset=utf-8\"><title>Weather for Oslo, Norway</title><meta name=description content=\"Current weather in Oslo and forecast for today, tomorrow, and next 14 days\"><meta name=robots content=\"max-image-preview:large\"><meta property=\"og:image\" content=\"https://www.timeanddate.com/scripts/cityog.php?title=Wea\nChecking Helsinki: <!DOCTYPE html><!--\nscripts and programs that download content transparent to the user are not allowed without permission\n--><html lang=en><head><meta http-equiv=Content-Type content=\"text/html; charset=utf-8\"><title>Weather for Helsinki, Finland</title><meta name=description content=\"Current weather in Helsinki and forecast for today, tomorrow, and next 14 days\"><meta name=robots content=\"max-image-preview:large\"><meta property=\"og:image\" content=\"https://www.timeanddate.com/scripts/cityog.php?\nChecking Warsaw: <!DOCTYPE html><!--\nscripts and programs that download content transparent to the user are not allowed without permission\n--><html lang=en><head><meta http-equiv=Content-Type content=\"text/html; charset=utf-8\"><title>Weather for Warsaw, Poland</title><meta name=description content=\"Current weather in Warsaw and forecast for today, tomorrow, and next 14 days\"><meta name=robots content=\"max-image-preview:large\"><meta property=\"og:image\" content=\"https://www.timeanddate.com/scripts/cityog.php?title\nChecking Prague: <!DOCTYPE html><!--\nscripts and programs that download content transparent to the user are not allowed without permission\n--><html lang=en><head><meta http-equiv=Content-Type content=\"text/html; charset=utf-8\"><title>Weather for Prague, Czechia</title><meta name=description content=\"Current weather in Prague and forecast for today, tomorrow, and next 14 days\"><meta name=robots content=\"max-image-preview:large\"><meta property=\"og:image\" content=\"https://www.timeanddate.com/scripts/cityog.php?titl\nChecking Budapest: <!DOCTYPE html><!--\nscripts and programs that download content transparent to the user are not allowed without permission\n--><html lang=en><head><meta http-equiv=Content-Type content=\"text/html; charset=utf-8\"><title>Weather for Budapest, Hungary</title><meta name=description content=\"Current weather in Budapest and forecast for today, tomorrow, and next 14 days\"><meta name=robots content=\"max-image-preview:large\"><meta property=\"og:image\" content=\"https://www.timeanddate.com/scripts/cityog.php?\nChecking Bratislava: <!DOCTYPE html><!--\nscripts and programs that download content transparent to the user are not allowed without permission\n--><html lang=en><head><meta http-equiv=Content-Type content=\"text/html; charset=utf-8\"><title>Weather for Bratislava, Slovakia</title><meta name=description content=\"Current weather in Bratislava and forecast for today, tomorrow, and next 14 days\"><meta name=robots content=\"max-image-preview:large\"><meta property=\"og:image\" content=\"https://www.timeanddate.com/scripts/cityog\nChecking Ljubljana: <!DOCTYPE html><!--\nscripts and programs that download content transparent to the user are not allowed without permission\n--><html lang=en><head><meta http-equiv=Content-Type content=\"text/html; charset=utf-8\"><title>Weather for Ljubljana, Slovenia</title><meta name=description content=\"Current weather in Ljubljana and forecast for today, tomorrow, and next 14 days\"><meta name=robots content=\"max-image-preview:large\"><meta property=\"og:image\" content=\"https://www.timeanddate.com/scripts/cityog.p\nChecking Zagreb: <!DOCTYPE html><!--\nscripts and programs that download content transparent to the user are not allowed without permission\n--><html lang=en><head><meta http-equiv=Content-Type content=\"text/html; charset=utf-8\"><title>Weather for Zagreb, Croatia</title><meta name=description content=\"Current weather in Zagreb and forecast for today, tomorrow, and next 14 days\"><meta name=robots content=\"max-image-preview:large\"><meta property=\"og:image\" content=\"https://www.timeanddate.com/scripts/cityog.php?titl\nChecking Sofia: <!DOCTYPE html><!--\nscripts and programs that download content transparent to the user are not allowed without permission\n--><html lang=en><head><meta http-equiv=Content-Type content=\"text/html; charset=utf-8\"><title>Weather for Sofia, Bulgaria</title><meta name=description content=\"Current weather in Sofia and forecast for today, tomorrow, and next 14 days\"><meta name=robots content=\"max-image-preview:large\"><meta property=\"og:image\" content=\"https://www.timeanddate.com/scripts/cityog.php?title\nChecking Bucharest: <!DOCTYPE html><!--\nscripts and programs that download content transparent to the user are not allowed without permission\n--><html lang=en><head><meta http-equiv=Content-Type content=\"text/html; charset=utf-8\"><title>Weather for Bucharest, Romania</title><meta name=description content=\"Current weather in Bucharest and forecast for today, tomorrow, and next 14 days\"><meta name=robots content=\"max-image-preview:large\"><meta property=\"og:image\" content=\"https://www.timeanddate.com/scripts/cityog.ph\nChecking Tallinn: <!DOCTYPE html><!--\nscripts and programs that download content transparent to the user are not allowed without permission\n--><html lang=en><head><meta http-equiv=Content-Type content=\"text/html; charset=utf-8\"><title>Weather for Tallinn, Estonia</title><meta name=description content=\"Current weather in Tallinn and forecast for today, tomorrow, and next 14 days\"><meta name=robots content=\"max-image-preview:large\"><meta property=\"og:image\" content=\"https://www.timeanddate.com/scripts/cityog.php?ti\nChecking Riga: <!DOCTYPE html><!--\nscripts and programs that download content transparent to the user are not allowed without permission\n--><html lang=en><head><meta http-equiv=Content-Type content=\"text/html; charset=utf-8\"><title>Weather for Riga, Latvia</title><meta name=description content=\"Current weather in Riga and forecast for today, tomorrow, and next 14 days\"><meta name=robots content=\"max-image-preview:large\"><meta property=\"og:image\" content=\"https://www.timeanddate.com/scripts/cityog.php?title=Wea\nChecking Vilnius: <!DOCTYPE html><!--\nscripts and programs that download content transparent to the user are not allowed without permission\n--><html lang=en><head><meta http-equiv=Content-Type content=\"text/html; charset=utf-8\"><title>Weather for Vilnius, Lithuania</title><meta name=description content=\"Current weather in Vilnius and forecast for today, tomorrow, and next 14 days\"><meta name=robots content=\"max-image-preview:large\"><meta property=\"og:image\" content=\"https://www.timeanddate.com/scripts/cityog.php?\nChecking Bern: <!DOCTYPE html><!--\nscripts and programs that download content transparent to the user are not allowed without permission\n--><html lang=en><head><meta http-equiv=Content-Type content=\"text/html; charset=utf-8\"><title>Weather for Bern, Bern, Switzerland</title><meta name=description content=\"Current weather in Bern and forecast for today, tomorrow, and next 14 days\"><meta name=robots content=\"max-image-preview:large\"><meta property=\"og:image\" content=\"https://www.timeanddate.com/scripts/cityog.ph\nChecking Reykjavik: <!DOCTYPE html><!--\nscripts and programs that download content transparent to the user are not allowed without permission\n--><html lang=en><head><meta http-equiv=Content-Type content=\"text/html; charset=utf-8\"><title>Weather for Reykjavik, Iceland</title><meta name=description content=\"Current weather in Reykjavik and forecast for today, tomorrow, and next 14 days\"><meta name=robots content=\"max-image-preview:large\"><meta property=\"og:image\" content=\"https://www.timeanddate.com/scripts/cityog.ph\nChecking Luxembourg: <!DOCTYPE html><!--\nscripts and programs that download content transparent to the user are not allowed without permission\n--><html lang=en><head><meta http-equiv=Content-Type content=\"text/html; charset=utf-8\"><title>Weather for Luxembourg, Luxembourg</title><meta name=description content=\"Current weather in Luxembourg and forecast for today, tomorrow, and next 14 days\"><meta name=robots content=\"max-image-preview:large\"><meta property=\"og:image\" content=\"https://www.timeanddate.com/scripts/city\nChecking Valletta: <!DOCTYPE html><!--\nscripts and programs that download content transparent to the user are not allowed without permission\n--><html lang=en><head><meta http-equiv=Content-Type content=\"text/html; charset=utf-8\"><title>Weather for Valletta, Malta</title><meta name=description content=\"Current weather in Valletta and forecast for today, tomorrow, and next 14 days\"><meta name=robots content=\"max-image-preview:large\"><meta property=\"og:image\" content=\"https://www.timeanddate.com/scripts/cityog.php?ti\n+----------+----------+-----------+\n|      Date|      City|Temperature|\n+----------+----------+-----------+\n|2025-03-14|     Paris|      39 °F|\n|2025-03-14|    Berlin|      46 °F|\n|2025-03-14|    Madrid|      48 °F|\n|2025-03-14|      Rome|      66 °F|\n|2025-03-14|    London|      46 °F|\n|2025-03-14| Amsterdam|      43 °F|\n|2025-03-14|  Brussels|      43 °F|\n|2025-03-14|    Vienna|      43 °F|\n|2025-03-14|Copenhagen|      36 °F|\n|2025-03-14|    Athens|      72 °F|\n|2025-03-14|    Lisbon|      59 °F|\n|2025-03-14|    Dublin|      46 °F|\n|2025-03-14| Stockholm|      39 °F|\n|2025-03-14|      Oslo|      40 °F|\n|2025-03-14|  Helsinki|      32 °F|\n|2025-03-14|    Warsaw|      45 °F|\n|2025-03-14|    Prague|      41 °F|\n|2025-03-14|  Budapest|      55 °F|\n|2025-03-14|Bratislava|      46 °F|\n|2025-03-14| Ljubljana|      44 °F|\n+----------+----------+-----------+\nonly showing top 20 rows\n\n"
     ]
    }
   ],
   "source": [
    "weather_data = [get_weather(city, url) for city, url in european_capitals.items()]\n",
    "weather_data = [data for data in weather_data if data]  # Remove None values\n",
    "\n",
    "if not weather_data:\n",
    "    print(\"No weather data scraped. Check website or connection.\")\n",
    "else:\n",
    "    columns = [\"Date\", \"City\", \"Temperature\"]\n",
    "    weather_df = spark.createDataFrame(weather_data, columns)\n",
    "    weather_df.show()\n"
   ]
  },
  {
   "cell_type": "markdown",
   "metadata": {
    "application/vnd.databricks.v1+cell": {
     "cellMetadata": {},
     "inputWidgets": {},
     "nuid": "f0f57e77-c6e7-4adb-aa2f-59bb757c1980",
     "showTitle": false,
     "tableResultSettingsMap": {},
     "title": ""
    }
   },
   "source": [
    "Converting Temperature Column to String Before Cleaning\n"
   ]
  },
  {
   "cell_type": "code",
   "execution_count": 0,
   "metadata": {
    "application/vnd.databricks.v1+cell": {
     "cellMetadata": {
      "byteLimit": 2048000,
      "rowLimit": 10000
     },
     "inputWidgets": {},
     "nuid": "f08ca238-9ad4-4bc3-b772-e7b57205faca",
     "showTitle": false,
     "tableResultSettingsMap": {},
     "title": ""
    }
   },
   "outputs": [
    {
     "output_type": "stream",
     "name": "stdout",
     "output_type": "stream",
     "text": [
      "+----------+----------+-----------+\n|      Date|      City|Temperature|\n+----------+----------+-----------+\n|2025-03-14|     Paris|      39 °F|\n|2025-03-14|    Berlin|      46 °F|\n|2025-03-14|    Madrid|      48 °F|\n|2025-03-14|      Rome|      66 °F|\n|2025-03-14|    London|      46 °F|\n|2025-03-14| Amsterdam|      43 °F|\n|2025-03-14|  Brussels|      43 °F|\n|2025-03-14|    Vienna|      43 °F|\n|2025-03-14|Copenhagen|      36 °F|\n|2025-03-14|    Athens|      72 °F|\n|2025-03-14|    Lisbon|      59 °F|\n|2025-03-14|    Dublin|      46 °F|\n|2025-03-14| Stockholm|      39 °F|\n|2025-03-14|      Oslo|      40 °F|\n|2025-03-14|  Helsinki|      32 °F|\n|2025-03-14|    Warsaw|      45 °F|\n|2025-03-14|    Prague|      41 °F|\n|2025-03-14|  Budapest|      55 °F|\n|2025-03-14|Bratislava|      46 °F|\n|2025-03-14| Ljubljana|      44 °F|\n+----------+----------+-----------+\nonly showing top 20 rows\n\n"
     ]
    }
   ],
   "source": [
    "from pyspark.sql.functions import col\n",
    "\n",
    "# Convert Temperature column to string before processing\n",
    "weather_df = weather_df.withColumn(\"Temperature\", col(\"Temperature\").cast(\"string\"))\n",
    "weather_df.show()\n"
   ]
  },
  {
   "cell_type": "markdown",
   "metadata": {
    "application/vnd.databricks.v1+cell": {
     "cellMetadata": {},
     "inputWidgets": {},
     "nuid": "c1cdc578-b0a0-4391-80a8-80525c8c6a23",
     "showTitle": false,
     "tableResultSettingsMap": {},
     "title": ""
    }
   },
   "source": [
    "Cleaning and Converting Temperature Column to Float"
   ]
  },
  {
   "cell_type": "code",
   "execution_count": 0,
   "metadata": {
    "application/vnd.databricks.v1+cell": {
     "cellMetadata": {
      "byteLimit": 2048000,
      "rowLimit": 10000
     },
     "inputWidgets": {},
     "nuid": "06356065-b5a7-43e6-941e-855260c38d53",
     "showTitle": false,
     "tableResultSettingsMap": {},
     "title": ""
    }
   },
   "outputs": [
    {
     "output_type": "stream",
     "name": "stdout",
     "output_type": "stream",
     "text": [
      "+----------+----------+-----------+\n|      Date|      City|Temperature|\n+----------+----------+-----------+\n|2025-03-14|     Paris|       39.0|\n|2025-03-14|    Berlin|       46.0|\n|2025-03-14|    Madrid|       48.0|\n|2025-03-14|      Rome|       66.0|\n|2025-03-14|    London|       46.0|\n|2025-03-14| Amsterdam|       43.0|\n|2025-03-14|  Brussels|       43.0|\n|2025-03-14|    Vienna|       43.0|\n|2025-03-14|Copenhagen|       36.0|\n|2025-03-14|    Athens|       72.0|\n|2025-03-14|    Lisbon|       59.0|\n|2025-03-14|    Dublin|       46.0|\n|2025-03-14| Stockholm|       39.0|\n|2025-03-14|      Oslo|       40.0|\n|2025-03-14|  Helsinki|       32.0|\n|2025-03-14|    Warsaw|       45.0|\n|2025-03-14|    Prague|       41.0|\n|2025-03-14|  Budapest|       55.0|\n|2025-03-14|Bratislava|       46.0|\n|2025-03-14| Ljubljana|       44.0|\n+----------+----------+-----------+\nonly showing top 20 rows\n\n"
     ]
    }
   ],
   "source": [
    "from pyspark.sql.functions import regexp_replace, trim\n",
    "\n",
    "# Clean and convert the Temperature column\n",
    "weather_df = weather_df.withColumn(\n",
    "    \"Temperature\",\n",
    "    regexp_replace(trim(col(\"Temperature\")), \"[^0-9.-]\", \"\").cast(\"float\")\n",
    ")\n",
    "\n",
    "weather_df.show()\n"
   ]
  },
  {
   "cell_type": "markdown",
   "metadata": {
    "application/vnd.databricks.v1+cell": {
     "cellMetadata": {},
     "inputWidgets": {},
     "nuid": "e139244d-a7d7-45e4-b27e-080ffaf74f05",
     "showTitle": false,
     "tableResultSettingsMap": {},
     "title": ""
    }
   },
   "source": [
    "Finding Cities with Minimum and Maximum Temperature"
   ]
  },
  {
   "cell_type": "code",
   "execution_count": 0,
   "metadata": {
    "application/vnd.databricks.v1+cell": {
     "cellMetadata": {
      "byteLimit": 2048000,
      "rowLimit": 10000
     },
     "inputWidgets": {},
     "nuid": "11655b65-e3c0-420e-9711-39eaeb8e8f58",
     "showTitle": false,
     "tableResultSettingsMap": {},
     "title": ""
    }
   },
   "outputs": [
    {
     "output_type": "stream",
     "name": "stdout",
     "output_type": "stream",
     "text": [
      "Coldest City: Helsinki with 32.0°C\nHottest City: Athens with 72.0°C\n"
     ]
    }
   ],
   "source": [
    "# Get the minimum temperature\n",
    "min_temp = weather_df.select(min(\"Temperature\")).collect()[0][0]\n",
    "min_temp_city = weather_df.filter(weather_df[\"Temperature\"] == min_temp).select(\"City\").collect()\n",
    "\n",
    "# Get the maximum temperature\n",
    "max_temp = weather_df.select(max(\"Temperature\")).collect()[0][0]\n",
    "max_temp_city = weather_df.filter(weather_df[\"Temperature\"] == max_temp).select(\"City\").collect()\n",
    "\n",
    "# Display results\n",
    "print(f\"Coldest City: {min_temp_city[0]['City']} with {min_temp}°C\")\n",
    "print(f\"Hottest City: {max_temp_city[0]['City']} with {max_temp}°C\")\n"
   ]
  },
  {
   "cell_type": "code",
   "execution_count": 0,
   "metadata": {
    "application/vnd.databricks.v1+cell": {
     "cellMetadata": {},
     "inputWidgets": {},
     "nuid": "ca3025dc-af73-4b32-b0e1-799c3781f0f9",
     "showTitle": false,
     "tableResultSettingsMap": {},
     "title": ""
    }
   },
   "outputs": [],
   "source": []
  }
 ],
 "metadata": {
  "application/vnd.databricks.v1+notebook": {
   "computePreferences": null,
   "dashboards": [],
   "environmentMetadata": {
    "base_environment": "",
    "client": "1"
   },
   "language": "python",
   "notebookMetadata": {
    "pythonIndentUnit": 4
   },
   "notebookName": "Mini_Project_with_spark",
   "widgets": {}
  }
 },
 "nbformat": 4,
 "nbformat_minor": 0
}
